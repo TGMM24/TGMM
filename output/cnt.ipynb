{
 "cells": [
  {
   "cell_type": "code",
   "execution_count": 1,
   "metadata": {},
   "outputs": [],
   "source": [
    "import numpy as np\n",
    "data2 = np.loadtxt(open(\"clonePairs.csv\",\"rb\"),delimiter=\",\",usecols=[0,1]) "
   ]
  },
  {
   "cell_type": "code",
   "execution_count": 2,
   "metadata": {},
   "outputs": [
    {
     "name": "stdout",
     "output_type": "stream",
     "text": [
      "1124344\n"
     ]
    }
   ],
   "source": [
    "print(len(data2))"
   ]
  },
  {
   "cell_type": "code",
   "execution_count": 3,
   "metadata": {},
   "outputs": [],
   "source": [
    "for i in range(len(data2)):\n",
    "    if(data2[i][0] > data2[i][1]):\n",
    "        tmp = data2[i][0]\n",
    "        data2[i][0] = data2[i][1]\n",
    "        data2[i][1] = tmp\n",
    "idex2 =np.lexsort([data2[:,1], data2[:,0]])\n",
    "sorted_data2 = data2[idex2, :]"
   ]
  },
  {
   "cell_type": "code",
   "execution_count": 4,
   "metadata": {},
   "outputs": [
    {
     "name": "stdout",
     "output_type": "stream",
     "text": [
      "1123792\n"
     ]
    }
   ],
   "source": [
    "cnttt = 0\n",
    "for i in range(1, len(sorted_data2)):\n",
    "    if sorted_data2[i][0] != sorted_data2[i-1][0] or sorted_data2[i][1] != sorted_data2[i-1][1]:\n",
    "        cnttt+=1\n",
    "\n",
    "print(cnttt)"
   ]
  }
 ],
 "metadata": {
  "kernelspec": {
   "display_name": "base",
   "language": "python",
   "name": "python3"
  },
  "language_info": {
   "codemirror_mode": {
    "name": "ipython",
    "version": 3
   },
   "file_extension": ".py",
   "mimetype": "text/x-python",
   "name": "python",
   "nbconvert_exporter": "python",
   "pygments_lexer": "ipython3",
   "version": "3.8.13"
  },
  "orig_nbformat": 4
 },
 "nbformat": 4,
 "nbformat_minor": 2
}
